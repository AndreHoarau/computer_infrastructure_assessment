{
 "cells": [
  {
   "cell_type": "markdown",
   "metadata": {},
   "source": [
    "# Report: on the tasks performed during computer infrastructure assessment \n",
    "## Author : Andre Hoarau\n"
   ]
  },
  {
   "cell_type": "markdown",
   "metadata": {},
   "source": [
    "# Task 1 Create Directory Structure\n",
    "* To perform this task I first had to ensure that I was at the root of my directory. My directory was named computer_infrastructure_assessment. I used the pwd command (present working directory) this command prints the full path of the current directory in which my terminal was. Whilst I was in the root of my directory if I needed to go up a directory I could use the change directory command (cd) followed by the parent directory command (..). I can also use the ls command (list files) to see all the contents within the current directory that I was in. I could also use ls -all. The -all flag will show all files including files that are hidden using a . such as the .gitignore folder.\n",
    "The make directory command (mkdir) was then used to make the directories that I needed. The parent directory I needed was data so I made that first. I then used cd to go into the data directory and used mkdir to make weather and timestamps sub-repositories within the data repository. Another option I could have opted for was mkdir -p. The -p option speicifies you are making a parent directory for example I could have done all the preparation in one line using the command \"mkdir -p data/{timestamps,weather}. The -p option speicifies the parent directory here. It is also important to note that the mkdir will create directories if they do not exist.\n",
    "\n",
    "<small>\n",
    "References: \n",
    "https://www.ibm.com/docs/tr/aix/7.1?topic=p-pwd-command - This document from IBM helped me to articulate pwd and it's flags\n",
    "https://www.ibm.com/docs/en/aix/7.1?topic=directories-creating-mkdir-command - This document explained the mkdir command. \n",
    "https://stackoverflow.com/questions/72826946/how-to-create-a-parent-directory-with-multiple-subdirectories-which-has-nested-s - This stack overflow artcile showed me how to make multiple sub directories using one command. \n",
    "\n",
    "<small>"
   ]
  },
  {
   "cell_type": "code",
   "execution_count": null,
   "metadata": {},
   "outputs": [],
   "source": []
  }
 ],
 "metadata": {
  "language_info": {
   "name": "python"
  }
 },
 "nbformat": 4,
 "nbformat_minor": 2
}
