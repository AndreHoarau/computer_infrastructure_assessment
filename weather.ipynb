{
 "cells": [
  {
   "cell_type": "markdown",
   "metadata": {},
   "source": [
    "# Report: on the tasks performed during computer infrastructure assessment \n",
    "## Author : Andre Hoarau\n"
   ]
  },
  {
   "cell_type": "markdown",
   "metadata": {},
   "source": [
    "# Task 1 Create Directory Structure\n",
    "* To perform this task I first had to ensure that I was at the root of my directory. My directory was named computer_infrastructure_assessment. "
   ]
  }
 ],
 "metadata": {
  "language_info": {
   "name": "python"
  }
 },
 "nbformat": 4,
 "nbformat_minor": 2
}
