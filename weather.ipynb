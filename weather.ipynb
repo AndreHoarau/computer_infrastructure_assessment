{
 "cells": [
  {
   "cell_type": "markdown",
   "metadata": {},
   "source": [
    "# Report: on the tasks performed during computer infrastructure assessment \n",
    "## Author : Andre Hoarau\n"
   ]
  },
  {
   "cell_type": "markdown",
   "metadata": {},
   "source": [
    "# Task 1 Create Directory Structure\n",
    "* To perform this task I first had to ensure that I was at the root of my directory. My directory was named computer_infrastructure_assessment. I used the pwd command (present working directory) this command prints the full path of the current directory in which my terminal was. Whilst I was in the root of my directory if I needed to go up a directory I could use the change directory command (cd) followed by the parent directory command (..). I can also use the ls command (list files) to see all the contents within the current directory that I was in. I could also use ls -all. The -all flag will show all files including files that are hidden using a . such as the .gitignore folder. Tab can also be used on the keyboard to autofill file names for conveinience. \n",
    "* The make directory command (mkdir) was then used to make the directories that I needed. The parent directory I needed was data so I made that first. I then used cd to go into the data directory and used mkdir to make weather and timestamps sub-repositories within the data repository. Another option I could have opted for was mkdir -p. The -p option speicifies you are making a parent directory for example I could have done all the preparation in one line using the command \"mkdir -p data/{timestamps,weather}. The -p option speicifies the parent directory here. It is also important to note that the mkdir will create directories if they do not exist.\n",
    "\n",
    "<small>\n",
    "\n",
    "References: \n",
    "* https://www.ibm.com/docs/tr/aix/7.1?topic=p-pwd-command - This document from IBM helped me to articulate pwd and it's flags\n",
    "* https://www.ibm.com/docs/en/aix/7.1?topic=directories-creating-mkdir-command - This document explained the mkdir command. \n",
    "* https://stackoverflow.com/questions/72826946/how-to-create-a-parent-directory-with-multiple-subdirectories-which-has-nested-s - This stack overflow artcile showed me how to make multiple sub directories using one command. \n",
    "\n",
    "<small>"
   ]
  },
  {
   "cell_type": "markdown",
   "metadata": {},
   "source": [
    "# Task 2 Timestamps\n",
    "* I started in the root of my directory and used the cd command to get into data/timestamps.\n",
    "* I then used the following \"date >> now.txt\" The date function prints or sets the system date and time. It can be formatted and there is information on this running the command \"man date\" ensuring to use q to quit. Date will generate the date and time in the following format Sun Oct 27 17:52:11 UTC 2024. UTC is the time zone it is coordinated universal time. Date contains various argumtents which one can use to modify or work with date more readily. For example a few include date --help or --h which will provide you with the documentaion in the terminal including useful information on date and time formatting.\n",
    "* \">>\" is the output redirection operator. Used in the context of our commands it takes the output of the date function which would normally just print to the terminal and outputs that value to a file we speicify. In this case now.txt. As we are using 2 \">>\" it will append. This means that it does not overwrite the file which it would if we used \">\". Also if the file we specified in this case now.txt did not exist then the command line would create it. \"<\" is the input redirection operator and can allow a user to input certain files into commands. \n",
    "* now.txt the txt file I created and as we used the output redirection operator as append we are able to add more of the dates to this text file. We entered 10 dates as we performed this commmand 10 times.\n",
    "<small>\n",
    "\n",
    "References: \n",
    "* https://man7.org/linux/man-pages/man1/date.1.html - The linux manual has a comprehensive guide for using the date command. \n",
    "* https://www.ibm.com/docs/en/aix/7.2?topic=administration-input-output-redirection- This document from IBM explained the output and input redirection operator.\n",
    "* https://www.shells.com/l/en-US/tutorial/Difference-between-%E2%80%9C%3E%E2%80%9D-and-%E2%80%9C%3E%3E%E2%80%9D-in-Linux#:~:text=So%2C%20what%20we%20learned%20is,to%20modify%20files%20in%20Linux. - This article explained the output redirection operator\n",
    "<small>"
   ]
  }
 ],
 "metadata": {
  "language_info": {
   "name": "python"
  }
 },
 "nbformat": 4,
 "nbformat_minor": 2
}
